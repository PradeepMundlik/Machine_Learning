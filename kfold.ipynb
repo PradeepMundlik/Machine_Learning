{
 "cells": [
  {
   "cell_type": "markdown",
   "metadata": {},
   "source": [
    "## Model Selection\n",
    "### K-fold Cross Validation\n"
   ]
  },
  {
   "cell_type": "code",
   "execution_count": 674,
   "metadata": {},
   "outputs": [],
   "source": [
    "import pandas as pd\n",
    "import numpy as np\n",
    "from sklearn.datasets import load_digits\n",
    "from sklearn.linear_model import LogisticRegression\n",
    "from sklearn.svm import SVC\n",
    "from sklearn.ensemble import RandomForestClassifier\n",
    "from sklearn.model_selection import train_test_split"
   ]
  },
  {
   "cell_type": "code",
   "execution_count": 675,
   "metadata": {},
   "outputs": [],
   "source": [
    "# dataset = load_iris()\n",
    "# data = pd.DataFrame(dataset.data,columns=dataset.feature_names)\n",
    "# data['target'] = dataset.target\n",
    "# data = data.sample(frac=1)\n",
    "# X = np.array(data.drop(['target'],axis=1))\n",
    "# Y = np.array(data['target'])"
   ]
  },
  {
   "cell_type": "code",
   "execution_count": 676,
   "metadata": {},
   "outputs": [],
   "source": [
    "dataset = load_digits()\n",
    "X = dataset.data\n",
    "Y = dataset.target"
   ]
  },
  {
   "cell_type": "code",
   "execution_count": 677,
   "metadata": {},
   "outputs": [],
   "source": [
    "from sklearn.preprocessing import StandardScaler\n",
    "from sklearn.decomposition import PCA\n",
    "X_scaled = StandardScaler().fit_transform(X)\n",
    "X_standard = PCA(n_components=0.98).fit_transform(X_scaled)\n",
    "X = X_standard"
   ]
  },
  {
   "cell_type": "code",
   "execution_count": 678,
   "metadata": {},
   "outputs": [],
   "source": [
    "def getscore(model,X_train,Y_train,X_test,Y_test):\n",
    "    model.fit(X_train,Y_train)\n",
    "    return model.score(X_test,Y_test)"
   ]
  },
  {
   "cell_type": "code",
   "execution_count": 679,
   "metadata": {},
   "outputs": [
    {
     "name": "stdout",
     "output_type": "stream",
     "text": [
      "[0.9694444444444444, 0.9555555555555556, 0.9832869080779945, 0.9693593314763231, 0.9637883008356546] \n",
      " [0.9833333333333333, 0.975, 0.9860724233983287, 0.9693593314763231, 0.9805013927576601] \n",
      " [0.975, 0.95, 0.9721448467966574, 0.9665738161559888, 0.9610027855153204]\n"
     ]
    }
   ],
   "source": [
    "from sklearn.model_selection import StratifiedKFold\n",
    "score_lr = []\n",
    "score_svm = []\n",
    "score_rf = []\n",
    "\n",
    "kf = StratifiedKFold(n_splits=5,shuffle=True)\n",
    "\n",
    "for train_index, test_index in kf.split(X,Y):\n",
    "    score_lr.append(getscore(LogisticRegression(max_iter=10000),X[train_index],Y[train_index],X[test_index],Y[test_index]))\n",
    "    score_svm.append(getscore(SVC(C=1,kernel='linear'),X[train_index],Y[train_index],X[test_index],Y[test_index]))\n",
    "    score_rf.append(getscore(RandomForestClassifier(n_estimators=100),X[train_index],Y[train_index],X[test_index],Y[test_index]))\n",
    "\n",
    "print(score_lr,'\\n',score_svm,'\\n',score_rf)"
   ]
  },
  {
   "cell_type": "code",
   "execution_count": 680,
   "metadata": {},
   "outputs": [
    {
     "name": "stdout",
     "output_type": "stream",
     "text": [
      "0.9682869080779944 0.978853296193129 0.9649442896935932\n"
     ]
    }
   ],
   "source": [
    "print(np.average(score_lr),\n",
    "np.average(score_svm),\n",
    "np.average(score_rf))"
   ]
  },
  {
   "cell_type": "code",
   "execution_count": 681,
   "metadata": {},
   "outputs": [],
   "source": [
    "from sklearn.model_selection import cross_val_score"
   ]
  },
  {
   "cell_type": "code",
   "execution_count": 682,
   "metadata": {},
   "outputs": [
    {
     "name": "stdout",
     "output_type": "stream",
     "text": [
      "[0.91944444 0.88333333 0.94150418 0.96657382 0.89693593]\n",
      "[0.94722222 0.925      0.9637883  0.98050139 0.92200557]\n",
      "[0.92777778 0.89166667 0.95264624 0.94986072 0.90807799]\n"
     ]
    }
   ],
   "source": [
    "print(cross_val_score(LogisticRegression(max_iter=10000),X,Y))\n",
    "print(cross_val_score(SVC(C=1,kernel='linear'),X,Y))\n",
    "print(cross_val_score(RandomForestClassifier(n_estimators=100),X,Y))"
   ]
  }
 ],
 "metadata": {
  "kernelspec": {
   "display_name": "Python 3.10.6 64-bit",
   "language": "python",
   "name": "python3"
  },
  "language_info": {
   "codemirror_mode": {
    "name": "ipython",
    "version": 3
   },
   "file_extension": ".py",
   "mimetype": "text/x-python",
   "name": "python",
   "nbconvert_exporter": "python",
   "pygments_lexer": "ipython3",
   "version": "3.10.6"
  },
  "orig_nbformat": 4,
  "vscode": {
   "interpreter": {
    "hash": "916dbcbb3f70747c44a77c7bcd40155683ae19c65e1c03b4aa3499c5328201f1"
   }
  }
 },
 "nbformat": 4,
 "nbformat_minor": 2
}
