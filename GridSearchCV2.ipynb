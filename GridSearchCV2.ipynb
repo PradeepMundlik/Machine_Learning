{
 "cells": [
  {
   "cell_type": "markdown",
   "metadata": {},
   "source": [
    "## Deducing best model for digits dataset"
   ]
  },
  {
   "cell_type": "code",
   "execution_count": 28,
   "metadata": {},
   "outputs": [],
   "source": [
    "import pandas as pd\n",
    "from sklearn.datasets import load_digits\n",
    "from sklearn.decomposition import PCA\n",
    "from sklearn.preprocessing import MinMaxScaler\n",
    "from sklearn.pipeline import Pipeline\n",
    "from sklearn.model_selection import GridSearchCV, StratifiedKFold"
   ]
  },
  {
   "cell_type": "code",
   "execution_count": 29,
   "metadata": {},
   "outputs": [],
   "source": [
    "dataset  = load_digits()\n",
    "X = dataset.data\n",
    "Y = dataset.target"
   ]
  },
  {
   "cell_type": "code",
   "execution_count": 30,
   "metadata": {},
   "outputs": [],
   "source": [
    "X = MinMaxScaler().fit(X).transform(X)\n",
    "# X = PCA(n_components=0.98).fit_transform(X) "
   ]
  },
  {
   "cell_type": "markdown",
   "metadata": {},
   "source": [
    "Here we can't use PCA becaue of MultinomialNB where feature values must be positive"
   ]
  },
  {
   "cell_type": "code",
   "execution_count": 31,
   "metadata": {},
   "outputs": [],
   "source": [
    "# scalar = Pipeline([('Scaler',MinMaxScaler()),('pca',PCA(n_components=0.95))])\n",
    "# X = scalar.fit_transform(X)\n",
    "# X.shape"
   ]
  },
  {
   "cell_type": "code",
   "execution_count": 32,
   "metadata": {},
   "outputs": [],
   "source": [
    "from sklearn.tree import DecisionTreeClassifier\n",
    "from sklearn.ensemble import RandomForestClassifier\n",
    "from sklearn.linear_model import LogisticRegression\n",
    "from sklearn.naive_bayes import GaussianNB, MultinomialNB\n",
    "from sklearn.svm import SVC"
   ]
  },
  {
   "cell_type": "code",
   "execution_count": 33,
   "metadata": {},
   "outputs": [],
   "source": [
    "models = {\n",
    "    'dtc': {\n",
    "        'model':DecisionTreeClassifier(),\n",
    "        'params':{}\n",
    "    },\n",
    "    'rfc': {\n",
    "        'model': RandomForestClassifier(),\n",
    "        'params':{\n",
    "            'n_estimators': [1,10,100]\n",
    "        }\n",
    "    },\n",
    "    'lreg': {\n",
    "        'model': LogisticRegression(max_iter=10000),\n",
    "        'params':{\n",
    "            'C':[0.1,1,10,100]\n",
    "        }\n",
    "    },\n",
    "    'gnb':{\n",
    "        'model': GaussianNB(),\n",
    "        'params':{}\n",
    "    },\n",
    "    'mnb':{\n",
    "        'model': MultinomialNB(),\n",
    "        'params':{}\n",
    "    },\n",
    "    'svm':{\n",
    "        'model':SVC(),\n",
    "        'params':{\n",
    "            'C':[0.1,1,10,100],\n",
    "            'kernel':['linear','rbf']\n",
    "        }\n",
    "    }\n",
    "}"
   ]
  },
  {
   "cell_type": "code",
   "execution_count": 34,
   "metadata": {},
   "outputs": [
    {
     "data": {
      "text/plain": [
       "[{'model': 'dtc', 'best_parameters': {}, 'best_score': 0.8497508511296813},\n",
       " {'model': 'rfc',\n",
       "  'best_parameters': {'n_estimators': 100},\n",
       "  'best_score': 0.9755199628597957},\n",
       " {'model': 'lreg',\n",
       "  'best_parameters': {'C': 10},\n",
       "  'best_score': 0.9716171463943052},\n",
       " {'model': 'gnb', 'best_parameters': {}, 'best_score': 0.821371092541009},\n",
       " {'model': 'mnb', 'best_parameters': {}, 'best_score': 0.8987109254100897},\n",
       " {'model': 'svm',\n",
       "  'best_parameters': {'C': 10, 'kernel': 'rbf'},\n",
       "  'best_score': 0.9916496440730425}]"
      ]
     },
     "execution_count": 34,
     "metadata": {},
     "output_type": "execute_result"
    }
   ],
   "source": [
    "best_models = []\n",
    "for model_name,mp in models.items():\n",
    "    clf = GridSearchCV(mp['model'],mp['params'],cv=StratifiedKFold(n_splits=5,shuffle=True))\n",
    "    clf.fit(X,Y)\n",
    "    best_models.append({\n",
    "        'model':model_name,\n",
    "        'best_parameters':clf.best_params_,\n",
    "        'best_score':clf.best_score_\n",
    "    })\n",
    "best_models"
   ]
  },
  {
   "cell_type": "code",
   "execution_count": 35,
   "metadata": {},
   "outputs": [
    {
     "data": {
      "text/html": [
       "<div>\n",
       "<style scoped>\n",
       "    .dataframe tbody tr th:only-of-type {\n",
       "        vertical-align: middle;\n",
       "    }\n",
       "\n",
       "    .dataframe tbody tr th {\n",
       "        vertical-align: top;\n",
       "    }\n",
       "\n",
       "    .dataframe thead th {\n",
       "        text-align: right;\n",
       "    }\n",
       "</style>\n",
       "<table border=\"1\" class=\"dataframe\">\n",
       "  <thead>\n",
       "    <tr style=\"text-align: right;\">\n",
       "      <th></th>\n",
       "      <th>model</th>\n",
       "      <th>best_parameters</th>\n",
       "      <th>best_score</th>\n",
       "    </tr>\n",
       "  </thead>\n",
       "  <tbody>\n",
       "    <tr>\n",
       "      <th>0</th>\n",
       "      <td>dtc</td>\n",
       "      <td>{}</td>\n",
       "      <td>0.849751</td>\n",
       "    </tr>\n",
       "    <tr>\n",
       "      <th>1</th>\n",
       "      <td>rfc</td>\n",
       "      <td>{'n_estimators': 100}</td>\n",
       "      <td>0.975520</td>\n",
       "    </tr>\n",
       "    <tr>\n",
       "      <th>2</th>\n",
       "      <td>lreg</td>\n",
       "      <td>{'C': 10}</td>\n",
       "      <td>0.971617</td>\n",
       "    </tr>\n",
       "    <tr>\n",
       "      <th>3</th>\n",
       "      <td>gnb</td>\n",
       "      <td>{}</td>\n",
       "      <td>0.821371</td>\n",
       "    </tr>\n",
       "    <tr>\n",
       "      <th>4</th>\n",
       "      <td>mnb</td>\n",
       "      <td>{}</td>\n",
       "      <td>0.898711</td>\n",
       "    </tr>\n",
       "    <tr>\n",
       "      <th>5</th>\n",
       "      <td>svm</td>\n",
       "      <td>{'C': 10, 'kernel': 'rbf'}</td>\n",
       "      <td>0.991650</td>\n",
       "    </tr>\n",
       "  </tbody>\n",
       "</table>\n",
       "</div>"
      ],
      "text/plain": [
       "  model             best_parameters  best_score\n",
       "0   dtc                          {}    0.849751\n",
       "1   rfc       {'n_estimators': 100}    0.975520\n",
       "2  lreg                   {'C': 10}    0.971617\n",
       "3   gnb                          {}    0.821371\n",
       "4   mnb                          {}    0.898711\n",
       "5   svm  {'C': 10, 'kernel': 'rbf'}    0.991650"
      ]
     },
     "execution_count": 35,
     "metadata": {},
     "output_type": "execute_result"
    }
   ],
   "source": [
    "pd.DataFrame(best_models)"
   ]
  },
  {
   "cell_type": "markdown",
   "metadata": {},
   "source": [
    "We can conclude that svm(C=10,kernel=rbf) is best performing model here."
   ]
  }
 ],
 "metadata": {
  "kernelspec": {
   "display_name": "Python 3.10.6 64-bit",
   "language": "python",
   "name": "python3"
  },
  "language_info": {
   "codemirror_mode": {
    "name": "ipython",
    "version": 3
   },
   "file_extension": ".py",
   "mimetype": "text/x-python",
   "name": "python",
   "nbconvert_exporter": "python",
   "pygments_lexer": "ipython3",
   "version": "3.10.6"
  },
  "orig_nbformat": 4,
  "vscode": {
   "interpreter": {
    "hash": "916dbcbb3f70747c44a77c7bcd40155683ae19c65e1c03b4aa3499c5328201f1"
   }
  }
 },
 "nbformat": 4,
 "nbformat_minor": 2
}
